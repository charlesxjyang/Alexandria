{
 "cells": [
  {
   "cell_type": "code",
   "execution_count": 1,
   "metadata": {},
   "outputs": [],
   "source": [
    "import sys\n",
    "sys.path.append(\"Python\")\n",
    "from biorxiv import bioRxivScraper"
   ]
  },
  {
   "cell_type": "code",
   "execution_count": null,
   "metadata": {},
   "outputs": [
    {
     "name": "stderr",
     "output_type": "stream",
     "text": [
      "Scraping subject area: Animal Behavior and Cognition: 100%|█████████████████████████| 12/12 [00:11<00:00,  1.04s/month]\n",
      "Scraping subject area: Animal Behavior and Cognition:  83%|████████████████████▊    | 10/12 [00:11<00:02,  1.26s/month]"
     ]
    }
   ],
   "source": [
    "from biorxiv_scraper.core import bioRxivScraper\n",
    "\n",
    "scraper = bioRxivScraper()\n",
    "scraped_content = scraper.by_year(2000, 2000,subject_areas=\"Animal Behavior and Cognition\")"
   ]
  },
  {
   "cell_type": "code",
   "execution_count": null,
   "metadata": {},
   "outputs": [],
   "source": []
  },
  {
   "cell_type": "code",
   "execution_count": null,
   "metadata": {},
   "outputs": [],
   "source": []
  },
  {
   "cell_type": "code",
   "execution_count": 23,
   "metadata": {},
   "outputs": [],
   "source": [
    "import numpy as np\n",
    "possible_sections = np.load('Python/Arxiv_sections.npy')"
   ]
  },
  {
   "cell_type": "code",
   "execution_count": 24,
   "metadata": {},
   "outputs": [
    {
     "data": {
      "text/plain": [
       "array(['cs', 'econ', 'eess', 'math', 'physics', 'physics:astro-ph',\n",
       "       'physics:cond-mat', 'physics:gr-qc', 'physics:hep-ex',\n",
       "       'physics:hep-lat', 'physics:hep-ph', 'physics:hep-th',\n",
       "       'physics:math-ph', 'physics:nlin', 'physics:nucl-ex',\n",
       "       'physics:nucl-th', 'physics:physics', 'physics:quant-ph', 'q-bio',\n",
       "       'q-fin', 'stat'], dtype='<U16')"
      ]
     },
     "execution_count": 24,
     "metadata": {},
     "output_type": "execute_result"
    }
   ],
   "source": [
    "possible_sections"
   ]
  },
  {
   "cell_type": "code",
   "execution_count": 4,
   "metadata": {},
   "outputs": [],
   "source": [
    "import sys\n",
    "import pandas as pd\n",
    "sys.path.append(\"Python\")\n",
    "from arxiv import title_query_arxiv,arxiv_section_scraper"
   ]
  },
  {
   "cell_type": "code",
   "execution_count": 2,
   "metadata": {},
   "outputs": [
    {
     "name": "stdout",
     "output_type": "stream",
     "text": [
      "HER\n",
      "http://export.arxiv.org/oai2?verb=ListRecords&from=2020-03-01&until=2020-03-24&metadataPrefix=arXiv&set=physics\n",
      "4337870|1001\n",
      "http://export.arxiv.org/oai2?verb=ListRecords&resumptionToken=4337870|1001\n",
      "4337870|2001\n",
      "http://export.arxiv.org/oai2?verb=ListRecords&resumptionToken=4337870|2001\n",
      "4337870|3001\n",
      "http://export.arxiv.org/oai2?verb=ListRecords&resumptionToken=4337870|3001\n",
      "4337870|4001\n",
      "http://export.arxiv.org/oai2?verb=ListRecords&resumptionToken=4337870|4001\n",
      "4337870|5001\n",
      "http://export.arxiv.org/oai2?verb=ListRecords&resumptionToken=4337870|5001\n",
      "4337870|6001\n",
      "http://export.arxiv.org/oai2?verb=ListRecords&resumptionToken=4337870|6001\n",
      "4337870|7001\n",
      "http://export.arxiv.org/oai2?verb=ListRecords&resumptionToken=4337870|7001\n",
      "4337870|8001\n",
      "http://export.arxiv.org/oai2?verb=ListRecords&resumptionToken=4337870|8001\n",
      "4337870|9001\n",
      "http://export.arxiv.org/oai2?verb=ListRecords&resumptionToken=4337870|9001\n",
      "\n"
     ]
    }
   ],
   "source": [
    "df = arxiv_section_scraper('physics',start_date='2020-03-01')"
   ]
  },
  {
   "cell_type": "code",
   "execution_count": 7,
   "metadata": {},
   "outputs": [
    {
     "name": "stdout",
     "output_type": "stream",
     "text": [
      "(1067496, 4)\n",
      "(9604, 4)\n",
      "(1077100, 4)\n"
     ]
    }
   ],
   "source": [
    "#merge\n",
    "base = pd.read_pickle(\"physics.pkl\")\n",
    "print(base.shape)\n",
    "print(df.shape)\n",
    "all_df = pd.concat([base,df])\n",
    "print(all_df.shape)\n",
    "all_df = all_df.drop_duplicates()\n",
    "print(all_df.shape)"
   ]
  },
  {
   "cell_type": "code",
   "execution_count": 10,
   "metadata": {},
   "outputs": [],
   "source": [
    "all_df.to_pickle(\"physics.pkl\")"
   ]
  },
  {
   "cell_type": "markdown",
   "metadata": {},
   "source": [
    "## Visualizing scraped data"
   ]
  },
  {
   "cell_type": "code",
   "execution_count": 11,
   "metadata": {},
   "outputs": [
    {
     "name": "stdout",
     "output_type": "stream",
     "text": [
      "(1067957, 4)\n"
     ]
    },
    {
     "data": {
      "text/html": [
       "<div>\n",
       "<style scoped>\n",
       "    .dataframe tbody tr th:only-of-type {\n",
       "        vertical-align: middle;\n",
       "    }\n",
       "\n",
       "    .dataframe tbody tr th {\n",
       "        vertical-align: top;\n",
       "    }\n",
       "\n",
       "    .dataframe thead th {\n",
       "        text-align: right;\n",
       "    }\n",
       "</style>\n",
       "<table border=\"1\" class=\"dataframe\">\n",
       "  <thead>\n",
       "    <tr style=\"text-align: right;\">\n",
       "      <th></th>\n",
       "      <th>title</th>\n",
       "      <th>abstract</th>\n",
       "      <th>created</th>\n",
       "      <th>arxiv_id</th>\n",
       "    </tr>\n",
       "  </thead>\n",
       "  <tbody>\n",
       "    <tr>\n",
       "      <th>0</th>\n",
       "      <td>In quest of a generalized Callias index theorem</td>\n",
       "      <td>We give a prescription for how to compute th...</td>\n",
       "      <td>2007-04-02</td>\n",
       "      <td>0704.0018</td>\n",
       "    </tr>\n",
       "    <tr>\n",
       "      <th>1</th>\n",
       "      <td>Molecular Synchronization Waves in Arrays of A...</td>\n",
       "      <td>Spatiotemporal pattern formation in a produc...</td>\n",
       "      <td>2007-03-31</td>\n",
       "      <td>0704.0021</td>\n",
       "    </tr>\n",
       "    <tr>\n",
       "      <th>2</th>\n",
       "      <td>The discrete dipole approximation for simulati...</td>\n",
       "      <td>In this manuscript we investigate the capabi...</td>\n",
       "      <td>2007-03-31</td>\n",
       "      <td>0704.0037</td>\n",
       "    </tr>\n",
       "    <tr>\n",
       "      <th>3</th>\n",
       "      <td>Nonequilibrium entropy limiters in lattice Bol...</td>\n",
       "      <td>We construct a system of nonequilibrium entr...</td>\n",
       "      <td>2007-03-31</td>\n",
       "      <td>0704.0043</td>\n",
       "    </tr>\n",
       "    <tr>\n",
       "      <th>4</th>\n",
       "      <td>Quantum Field Theory on Curved Backgrounds. II...</td>\n",
       "      <td>We study space-time symmetries in scalar qua...</td>\n",
       "      <td>2007-03-31</td>\n",
       "      <td>0704.0052</td>\n",
       "    </tr>\n",
       "  </tbody>\n",
       "</table>\n",
       "</div>"
      ],
      "text/plain": [
       "                                               title  \\\n",
       "0    In quest of a generalized Callias index theorem   \n",
       "1  Molecular Synchronization Waves in Arrays of A...   \n",
       "2  The discrete dipole approximation for simulati...   \n",
       "3  Nonequilibrium entropy limiters in lattice Bol...   \n",
       "4  Quantum Field Theory on Curved Backgrounds. II...   \n",
       "\n",
       "                                            abstract     created   arxiv_id  \n",
       "0    We give a prescription for how to compute th...  2007-04-02  0704.0018  \n",
       "1    Spatiotemporal pattern formation in a produc...  2007-03-31  0704.0021  \n",
       "2    In this manuscript we investigate the capabi...  2007-03-31  0704.0037  \n",
       "3    We construct a system of nonequilibrium entr...  2007-03-31  0704.0043  \n",
       "4    We study space-time symmetries in scalar qua...  2007-03-31  0704.0052  "
      ]
     },
     "execution_count": 11,
     "metadata": {},
     "output_type": "execute_result"
    }
   ],
   "source": [
    "import pandas as pd\n",
    "import matplotlib.pyplot as plt\n",
    "df = pd.read_pickle(\"physics.pkl\")\n",
    "print(df.shape)\n",
    "df.head()"
   ]
  },
  {
   "cell_type": "code",
   "execution_count": 12,
   "metadata": {},
   "outputs": [
    {
     "name": "stdout",
     "output_type": "stream",
     "text": [
      "(959748, 4)\n"
     ]
    }
   ],
   "source": [
    "#clean data\n",
    "df['created'] = pd.to_datetime(df['created'])\n",
    "df = df[df['created']>'01-01-2000']\n",
    "print(df.shape)"
   ]
  },
  {
   "cell_type": "code",
   "execution_count": 13,
   "metadata": {},
   "outputs": [
    {
     "name": "stdout",
     "output_type": "stream",
     "text": [
      "(959748, 5)\n"
     ]
    },
    {
     "data": {
      "text/html": [
       "<div>\n",
       "<style scoped>\n",
       "    .dataframe tbody tr th:only-of-type {\n",
       "        vertical-align: middle;\n",
       "    }\n",
       "\n",
       "    .dataframe tbody tr th {\n",
       "        vertical-align: top;\n",
       "    }\n",
       "\n",
       "    .dataframe thead th {\n",
       "        text-align: right;\n",
       "    }\n",
       "</style>\n",
       "<table border=\"1\" class=\"dataframe\">\n",
       "  <thead>\n",
       "    <tr style=\"text-align: right;\">\n",
       "      <th></th>\n",
       "      <th>title</th>\n",
       "      <th>abstract</th>\n",
       "      <th>created</th>\n",
       "      <th>arxiv_id</th>\n",
       "      <th>Week</th>\n",
       "    </tr>\n",
       "  </thead>\n",
       "  <tbody>\n",
       "    <tr>\n",
       "      <th>0</th>\n",
       "      <td>In quest of a generalized Callias index theorem</td>\n",
       "      <td>We give a prescription for how to compute th...</td>\n",
       "      <td>2007-04-02</td>\n",
       "      <td>0704.0018</td>\n",
       "      <td>2007-03-26</td>\n",
       "    </tr>\n",
       "    <tr>\n",
       "      <th>1</th>\n",
       "      <td>Molecular Synchronization Waves in Arrays of A...</td>\n",
       "      <td>Spatiotemporal pattern formation in a produc...</td>\n",
       "      <td>2007-03-31</td>\n",
       "      <td>0704.0021</td>\n",
       "      <td>2007-03-24</td>\n",
       "    </tr>\n",
       "    <tr>\n",
       "      <th>2</th>\n",
       "      <td>The discrete dipole approximation for simulati...</td>\n",
       "      <td>In this manuscript we investigate the capabi...</td>\n",
       "      <td>2007-03-31</td>\n",
       "      <td>0704.0037</td>\n",
       "      <td>2007-03-24</td>\n",
       "    </tr>\n",
       "    <tr>\n",
       "      <th>3</th>\n",
       "      <td>Nonequilibrium entropy limiters in lattice Bol...</td>\n",
       "      <td>We construct a system of nonequilibrium entr...</td>\n",
       "      <td>2007-03-31</td>\n",
       "      <td>0704.0043</td>\n",
       "      <td>2007-03-24</td>\n",
       "    </tr>\n",
       "    <tr>\n",
       "      <th>4</th>\n",
       "      <td>Quantum Field Theory on Curved Backgrounds. II...</td>\n",
       "      <td>We study space-time symmetries in scalar qua...</td>\n",
       "      <td>2007-03-31</td>\n",
       "      <td>0704.0052</td>\n",
       "      <td>2007-03-24</td>\n",
       "    </tr>\n",
       "  </tbody>\n",
       "</table>\n",
       "</div>"
      ],
      "text/plain": [
       "                                               title  \\\n",
       "0    In quest of a generalized Callias index theorem   \n",
       "1  Molecular Synchronization Waves in Arrays of A...   \n",
       "2  The discrete dipole approximation for simulati...   \n",
       "3  Nonequilibrium entropy limiters in lattice Bol...   \n",
       "4  Quantum Field Theory on Curved Backgrounds. II...   \n",
       "\n",
       "                                            abstract    created   arxiv_id  \\\n",
       "0    We give a prescription for how to compute th... 2007-04-02  0704.0018   \n",
       "1    Spatiotemporal pattern formation in a produc... 2007-03-31  0704.0021   \n",
       "2    In this manuscript we investigate the capabi... 2007-03-31  0704.0037   \n",
       "3    We construct a system of nonequilibrium entr... 2007-03-31  0704.0043   \n",
       "4    We study space-time symmetries in scalar qua... 2007-03-31  0704.0052   \n",
       "\n",
       "        Week  \n",
       "0 2007-03-26  \n",
       "1 2007-03-24  \n",
       "2 2007-03-24  \n",
       "3 2007-03-24  \n",
       "4 2007-03-24  "
      ]
     },
     "execution_count": 13,
     "metadata": {},
     "output_type": "execute_result"
    }
   ],
   "source": [
    "df['Week'] = pd.to_datetime(df['created']) - pd.to_timedelta(7, unit='d')\n",
    "print(df.shape)\n",
    "df.head()"
   ]
  },
  {
   "cell_type": "code",
   "execution_count": 14,
   "metadata": {},
   "outputs": [
    {
     "data": {
      "text/html": [
       "<div>\n",
       "<style scoped>\n",
       "    .dataframe tbody tr th:only-of-type {\n",
       "        vertical-align: middle;\n",
       "    }\n",
       "\n",
       "    .dataframe tbody tr th {\n",
       "        vertical-align: top;\n",
       "    }\n",
       "\n",
       "    .dataframe thead th {\n",
       "        text-align: right;\n",
       "    }\n",
       "</style>\n",
       "<table border=\"1\" class=\"dataframe\">\n",
       "  <thead>\n",
       "    <tr style=\"text-align: right;\">\n",
       "      <th></th>\n",
       "      <th>count</th>\n",
       "    </tr>\n",
       "    <tr>\n",
       "      <th>Week</th>\n",
       "      <th></th>\n",
       "    </tr>\n",
       "  </thead>\n",
       "  <tbody>\n",
       "    <tr>\n",
       "      <th>1999-12-27</th>\n",
       "      <td>93</td>\n",
       "    </tr>\n",
       "    <tr>\n",
       "      <th>2000-01-03</th>\n",
       "      <td>462</td>\n",
       "    </tr>\n",
       "    <tr>\n",
       "      <th>2000-01-10</th>\n",
       "      <td>529</td>\n",
       "    </tr>\n",
       "    <tr>\n",
       "      <th>2000-01-17</th>\n",
       "      <td>514</td>\n",
       "    </tr>\n",
       "    <tr>\n",
       "      <th>2000-01-24</th>\n",
       "      <td>518</td>\n",
       "    </tr>\n",
       "  </tbody>\n",
       "</table>\n",
       "</div>"
      ],
      "text/plain": [
       "            count\n",
       "Week             \n",
       "1999-12-27     93\n",
       "2000-01-03    462\n",
       "2000-01-10    529\n",
       "2000-01-17    514\n",
       "2000-01-24    518"
      ]
     },
     "execution_count": 14,
     "metadata": {},
     "output_type": "execute_result"
    }
   ],
   "source": [
    "#count by week\n",
    "week_count = df.groupby([pd.Grouper(key='Week', freq='W-MON')]).count()\n",
    "week_count['count'] = week_count['title']\n",
    "week_count = week_count.drop(['title','abstract','created','arxiv_id'],axis=1)\n",
    "week_count.head()"
   ]
  },
  {
   "cell_type": "code",
   "execution_count": 15,
   "metadata": {},
   "outputs": [
    {
     "name": "stderr",
     "output_type": "stream",
     "text": [
      "C:\\ProgramData\\Anaconda3\\lib\\site-packages\\pandas\\plotting\\_converter.py:129: FutureWarning: Using an implicitly registered datetime converter for a matplotlib plotting method. The converter was registered by pandas on import. Future versions of pandas will require you to explicitly register matplotlib converters.\n",
      "\n",
      "To register the converters:\n",
      "\t>>> from pandas.plotting import register_matplotlib_converters\n",
      "\t>>> register_matplotlib_converters()\n",
      "  warnings.warn(msg, FutureWarning)\n"
     ]
    },
    {
     "data": {
      "text/plain": [
       "<matplotlib.collections.PathCollection at 0x23ab137dbe0>"
      ]
     },
     "execution_count": 15,
     "metadata": {},
     "output_type": "execute_result"
    },
    {
     "data": {
      "image/png": "[encoded data removed]",
      "text/plain": [
       "<Figure size 432x288 with 1 Axes>"
      ]
     },
     "metadata": {
      "needs_background": "light"
     },
     "output_type": "display_data"
    }
   ],
   "source": [
    "plt.scatter(week_count.index,week_count['count'],s=2)"
   ]
  },
  {
   "cell_type": "code",
   "execution_count": 16,
   "metadata": {},
   "outputs": [
    {
     "data": {
      "text/plain": [
       "<matplotlib.collections.PathCollection at 0x23ab2414e48>"
      ]
     },
     "execution_count": 16,
     "metadata": {},
     "output_type": "execute_result"
    },
    {
     "data": {
      "image/png": "[encoded data removed]",
      "text/plain": [
       "<Figure size 432x288 with 1 Axes>"
      ]
     },
     "metadata": {
      "needs_background": "light"
     },
     "output_type": "display_data"
    }
   ],
   "source": [
    "this_year_week = week_count[week_count.index>='01-01-2019']\n",
    "plt.scatter(this_year_week.index,this_year_week['count'],s=2)"
   ]
  },
  {
   "cell_type": "code",
   "execution_count": 17,
   "metadata": {},
   "outputs": [
    {
     "data": {
      "text/html": [
       "<div>\n",
       "<style scoped>\n",
       "    .dataframe tbody tr th:only-of-type {\n",
       "        vertical-align: middle;\n",
       "    }\n",
       "\n",
       "    .dataframe tbody tr th {\n",
       "        vertical-align: top;\n",
       "    }\n",
       "\n",
       "    .dataframe thead th {\n",
       "        text-align: right;\n",
       "    }\n",
       "</style>\n",
       "<table border=\"1\" class=\"dataframe\">\n",
       "  <thead>\n",
       "    <tr style=\"text-align: right;\">\n",
       "      <th></th>\n",
       "      <th>count</th>\n",
       "    </tr>\n",
       "    <tr>\n",
       "      <th>created</th>\n",
       "      <th></th>\n",
       "    </tr>\n",
       "  </thead>\n",
       "  <tbody>\n",
       "    <tr>\n",
       "      <th>2000-01-02</th>\n",
       "      <td>18</td>\n",
       "    </tr>\n",
       "    <tr>\n",
       "      <th>2000-01-03</th>\n",
       "      <td>75</td>\n",
       "    </tr>\n",
       "    <tr>\n",
       "      <th>2000-01-04</th>\n",
       "      <td>69</td>\n",
       "    </tr>\n",
       "    <tr>\n",
       "      <th>2000-01-05</th>\n",
       "      <td>82</td>\n",
       "    </tr>\n",
       "    <tr>\n",
       "      <th>2000-01-06</th>\n",
       "      <td>69</td>\n",
       "    </tr>\n",
       "  </tbody>\n",
       "</table>\n",
       "</div>"
      ],
      "text/plain": [
       "            count\n",
       "created          \n",
       "2000-01-02     18\n",
       "2000-01-03     75\n",
       "2000-01-04     69\n",
       "2000-01-05     82\n",
       "2000-01-06     69"
      ]
     },
     "execution_count": 17,
     "metadata": {},
     "output_type": "execute_result"
    }
   ],
   "source": [
    "#count by day\n",
    "day_count = df.groupby(['created']).count()\n",
    "day_count['count'] = day_count['title']\n",
    "day_count = day_count.drop(['title','abstract','arxiv_id','Week'],axis=1)\n",
    "day_count.head()"
   ]
  },
  {
   "cell_type": "code",
   "execution_count": 18,
   "metadata": {},
   "outputs": [
    {
     "data": {
      "text/plain": [
       "<matplotlib.collections.PathCollection at 0x23b3a242278>"
      ]
     },
     "execution_count": 18,
     "metadata": {},
     "output_type": "execute_result"
    },
    {
     "data": {
      "image/png": "[encoded data removed]",
      "text/plain": [
       "<Figure size 432x288 with 1 Axes>"
      ]
     },
     "metadata": {
      "needs_background": "light"
     },
     "output_type": "display_data"
    }
   ],
   "source": [
    "from pandas.plotting import register_matplotlib_converters\n",
    "register_matplotlib_converters()\n",
    "import matplotlib.pyplot as plt\n",
    "plt.scatter(day_count.index,day_count['count'],s=2)"
   ]
  },
  {
   "cell_type": "code",
   "execution_count": 19,
   "metadata": {},
   "outputs": [
    {
     "data": {
      "text/plain": [
       "<matplotlib.collections.PathCollection at 0x23b3a2b2be0>"
      ]
     },
     "execution_count": 19,
     "metadata": {},
     "output_type": "execute_result"
    },
    {
     "data": {
      "image/png": "[encoded data removed]",
      "text/plain": [
       "<Figure size 432x288 with 1 Axes>"
      ]
     },
     "metadata": {
      "needs_background": "light"
     },
     "output_type": "display_data"
    }
   ],
   "source": [
    "this_year_day = day_count[day_count.index>='01-01-2019']\n",
    "plt.scatter(this_year_day.index,this_year_day['count'],s=2)"
   ]
  },
  {
   "cell_type": "code",
   "execution_count": null,
   "metadata": {},
   "outputs": [],
   "source": []
  },
  {
   "cell_type": "code",
   "execution_count": 16,
   "metadata": {},
   "outputs": [
    {
     "name": "stdout",
     "output_type": "stream",
     "text": [
      "{'20191118': 920, '20191119': 1407, '20191120': 1124, '20191121': 1002, '20191122': 1459, '20191123': 2100, '20191124': 809, '20191125': 1179}\n"
     ]
    }
   ],
   "source": [
    "####JUNK####\n",
    "from crossref_commons.iteration import iterate_publications_as_json\n",
    "from datetime import datetime\n",
    "filter = {'type': 'journal-article'}\n",
    "queries = {'query.bibliographic': 'battery'}\n",
    "counts = {}\n",
    "for p in iterate_publications_as_json(max_results=10**4, queries=queries, filter=filter):\n",
    "    date = p['indexed']['date-parts'][0]\n",
    "    strdate = ''.join(str(e) for e in date)\n",
    "    if strdate in counts.keys():\n",
    "        counts[strdate] +=1\n",
    "    else:\n",
    "        counts[strdate] = 1\n",
    "print(counts)\n",
    "\n"
   ]
  }
 ],
 "metadata": {
  "kernelspec": {
   "display_name": "Python 3",
   "language": "python",
   "name": "python3"
  },
  "language_info": {
   "codemirror_mode": {
    "name": "ipython",
    "version": 3
   },
   "file_extension": ".py",
   "mimetype": "text/x-python",
   "name": "python",
   "nbconvert_exporter": "python",
   "pygments_lexer": "ipython3",
   "version": "3.6.6"
  }
 },
 "nbformat": 4,
 "nbformat_minor": 2
}
