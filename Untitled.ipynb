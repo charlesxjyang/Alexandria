{
 "cells": [
  {
   "cell_type": "code",
   "execution_count": 16,
   "metadata": {},
   "outputs": [
    {
     "name": "stdout",
     "output_type": "stream",
     "text": [
      "{'20191118': 920, '20191119': 1407, '20191120': 1124, '20191121': 1002, '20191122': 1459, '20191123': 2100, '20191124': 809, '20191125': 1179}\n"
     ]
    }
   ],
   "source": [
    "from crossref_commons.iteration import iterate_publications_as_json\n",
    "from datetime import datetime\n",
    "filter = {'type': 'journal-article'}\n",
    "queries = {'query.bibliographic': 'battery'}\n",
    "counts = {}\n",
    "for p in iterate_publications_as_json(max_results=10**4, queries=queries, filter=filter):\n",
    "    date = p['indexed']['date-parts'][0]\n",
    "    strdate = ''.join(str(e) for e in date)\n",
    "    if strdate in counts.keys():\n",
    "        counts[strdate] +=1\n",
    "    else:\n",
    "        counts[strdate] = 1\n",
    "print(counts)\n",
    "\n"
   ]
  },
  {
   "cell_type": "code",
   "execution_count": 1,
   "metadata": {},
   "outputs": [],
   "source": [
    "import sys\n",
    "sys.path.append(\"Python\")\n",
    "from arxiv import title_query_arxiv,arxiv_section_scraper"
   ]
  },
  {
   "cell_type": "code",
   "execution_count": null,
   "metadata": {},
   "outputs": [
    {
     "name": "stdout",
     "output_type": "stream",
     "text": [
      "http://export.arxiv.org/oai2?verb=ListRecords&from=2006-01-01&until=2010-12-31&metadataPrefix=arXiv&set=physics\n",
      "4319611|1001\n",
      "http://export.arxiv.org/oai2?verb=ListRecords&resumptionToken=4319611|1001\n",
      "4319611|2001\n",
      "http://export.arxiv.org/oai2?verb=ListRecords&resumptionToken=4319611|2001\n",
      "4319611|3001\n",
      "http://export.arxiv.org/oai2?verb=ListRecords&resumptionToken=4319611|3001\n",
      "4319611|4001\n",
      "http://export.arxiv.org/oai2?verb=ListRecords&resumptionToken=4319611|4001\n",
      "4319611|5001\n",
      "http://export.arxiv.org/oai2?verb=ListRecords&resumptionToken=4319611|5001\n",
      "4319611|6001\n",
      "http://export.arxiv.org/oai2?verb=ListRecords&resumptionToken=4319611|6001\n",
      "4319611|7001\n",
      "http://export.arxiv.org/oai2?verb=ListRecords&resumptionToken=4319611|7001\n",
      "4319611|8001\n",
      "http://export.arxiv.org/oai2?verb=ListRecords&resumptionToken=4319611|8001\n",
      "4319611|9001\n",
      "http://export.arxiv.org/oai2?verb=ListRecords&resumptionToken=4319611|9001\n",
      "4319611|10001\n",
      "http://export.arxiv.org/oai2?verb=ListRecords&resumptionToken=4319611|10001\n",
      "4319611|11001\n",
      "http://export.arxiv.org/oai2?verb=ListRecords&resumptionToken=4319611|11001\n",
      "4319611|12001\n",
      "http://export.arxiv.org/oai2?verb=ListRecords&resumptionToken=4319611|12001\n",
      "4319611|13001\n",
      "http://export.arxiv.org/oai2?verb=ListRecords&resumptionToken=4319611|13001\n",
      "4319611|14001\n",
      "http://export.arxiv.org/oai2?verb=ListRecords&resumptionToken=4319611|14001\n",
      "4319611|15001\n",
      "http://export.arxiv.org/oai2?verb=ListRecords&resumptionToken=4319611|15001\n",
      "4319611|16001\n",
      "http://export.arxiv.org/oai2?verb=ListRecords&resumptionToken=4319611|16001\n",
      "4319611|17001\n",
      "http://export.arxiv.org/oai2?verb=ListRecords&resumptionToken=4319611|17001\n",
      "4319611|18001\n",
      "http://export.arxiv.org/oai2?verb=ListRecords&resumptionToken=4319611|18001\n",
      "4319611|19001\n",
      "http://export.arxiv.org/oai2?verb=ListRecords&resumptionToken=4319611|19001\n",
      "4319611|20001\n",
      "http://export.arxiv.org/oai2?verb=ListRecords&resumptionToken=4319611|20001\n",
      "4319611|21001\n",
      "http://export.arxiv.org/oai2?verb=ListRecords&resumptionToken=4319611|21001\n",
      "4319611|22001\n",
      "http://export.arxiv.org/oai2?verb=ListRecords&resumptionToken=4319611|22001\n",
      "4319611|23001\n",
      "http://export.arxiv.org/oai2?verb=ListRecords&resumptionToken=4319611|23001\n",
      "4319611|24001\n",
      "http://export.arxiv.org/oai2?verb=ListRecords&resumptionToken=4319611|24001\n",
      "4319611|25001\n",
      "http://export.arxiv.org/oai2?verb=ListRecords&resumptionToken=4319611|25001\n",
      "4319611|26001\n",
      "http://export.arxiv.org/oai2?verb=ListRecords&resumptionToken=4319611|26001\n",
      "4319611|27001\n",
      "http://export.arxiv.org/oai2?verb=ListRecords&resumptionToken=4319611|27001\n",
      "4319611|28001\n",
      "http://export.arxiv.org/oai2?verb=ListRecords&resumptionToken=4319611|28001\n",
      "4319611|29001\n",
      "http://export.arxiv.org/oai2?verb=ListRecords&resumptionToken=4319611|29001\n",
      "4319611|30001\n",
      "http://export.arxiv.org/oai2?verb=ListRecords&resumptionToken=4319611|30001\n",
      "4319611|31001\n",
      "http://export.arxiv.org/oai2?verb=ListRecords&resumptionToken=4319611|31001\n"
     ]
    }
   ],
   "source": [
    "df = arxiv_section_scraper('physics')"
   ]
  },
  {
   "cell_type": "code",
   "execution_count": 23,
   "metadata": {},
   "outputs": [],
   "source": [
    "import numpy as np\n",
    "possible_sections = np.load('Python/Arxiv_sections.npy')"
   ]
  },
  {
   "cell_type": "code",
   "execution_count": 24,
   "metadata": {},
   "outputs": [
    {
     "data": {
      "text/plain": [
       "array(['cs', 'econ', 'eess', 'math', 'physics', 'physics:astro-ph',\n",
       "       'physics:cond-mat', 'physics:gr-qc', 'physics:hep-ex',\n",
       "       'physics:hep-lat', 'physics:hep-ph', 'physics:hep-th',\n",
       "       'physics:math-ph', 'physics:nlin', 'physics:nucl-ex',\n",
       "       'physics:nucl-th', 'physics:physics', 'physics:quant-ph', 'q-bio',\n",
       "       'q-fin', 'stat'], dtype='<U16')"
      ]
     },
     "execution_count": 24,
     "metadata": {},
     "output_type": "execute_result"
    }
   ],
   "source": [
    "possible_sections"
   ]
  },
  {
   "cell_type": "code",
   "execution_count": 22,
   "metadata": {},
   "outputs": [],
   "source": []
  },
  {
   "cell_type": "code",
   "execution_count": null,
   "metadata": {},
   "outputs": [],
   "source": []
  }
 ],
 "metadata": {
  "kernelspec": {
   "display_name": "Python 3",
   "language": "python",
   "name": "python3"
  },
  "language_info": {
   "codemirror_mode": {
    "name": "ipython",
    "version": 3
   },
   "file_extension": ".py",
   "mimetype": "text/x-python",
   "name": "python",
   "nbconvert_exporter": "python",
   "pygments_lexer": "ipython3",
   "version": "3.6.6"
  }
 },
 "nbformat": 4,
 "nbformat_minor": 2
}
